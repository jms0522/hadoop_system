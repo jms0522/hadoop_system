{
 "cells": [
  {
   "cell_type": "code",
   "execution_count": 6,
   "id": "5d0537a7-5aeb-43ff-b0e6-bae5497ffb5f",
   "metadata": {},
   "outputs": [
    {
     "name": "stdout",
     "output_type": "stream",
     "text": [
      "<SparkContext master=local[*] appName=Jupyter Notebook and Spark>\n"
     ]
    }
   ],
   "source": [
    "import os\n",
    "os.environ['PYSPARK_PYTHON'] = '/usr/bin/python3'\n",
    "os.environ['PYSPARK_DRIVER_PYTHON'] = '/usr/local/bin/jupyter'\n",
    "os.environ['PYSPARK_DRIVER_PYTHON_OPTS'] = 'notebook'\n",
    "\n",
    "from pyspark.sql import SparkSession\n",
    "\n",
    "# SparkSession 생성\n",
    "spark = SparkSession.builder \\\n",
    "    .appName(\"Jupyter Notebook and Spark\") \\\n",
    "    .master(\"local[*]\") \\\n",
    "    .config(\"spark.ui.enabled\", \"true\") \\\n",
    "    .getOrCreate()\n",
    "\n",
    "# SparkContext 확인\n",
    "sc = spark.sparkContext\n",
    "print(sc)"
   ]
  },
  {
   "cell_type": "code",
   "execution_count": 7,
   "id": "2e766c0d-dc3e-48f0-9297-f1381698c7b6",
   "metadata": {},
   "outputs": [
    {
     "name": "stdout",
     "output_type": "stream",
     "text": [
      "http://94a9d2e5a192:4040\n"
     ]
    }
   ],
   "source": [
    "print(sc.uiWebUrl)"
   ]
  },
  {
   "cell_type": "code",
   "execution_count": 5,
   "id": "061d3a73-9d42-4849-a6c6-424133c569a1",
   "metadata": {},
   "outputs": [
    {
     "name": "stdout",
     "output_type": "stream",
     "text": [
      "+--------------------+--------------+------------+-------+---------------+-----------+-------------------+----------------+-----------+----+-----+-----------------+\n",
      "|            Car_name|Num_of_reviews|General_rate|Comfort|Interior design|Performance|Value for the money|Exterior styling|Reliability|Year|Brand|            Model|\n",
      "+--------------------+--------------+------------+-------+---------------+-----------+-------------------+----------------+-----------+----+-----+-----------------+\n",
      "|2023     Acura   ...|           5.0|         4.6|    4.4|            4.4|        4.6|                4.2|             5.0|        4.8|2023|Acura|         Integra.|\n",
      "|2023     Acura   ...|          NULL|        NULL|   NULL|           NULL|       NULL|               NULL|            NULL|       NULL|2023|Acura|             MDX.|\n",
      "|2023     Acura   ...|          NULL|        NULL|   NULL|           NULL|       NULL|               NULL|            NULL|       NULL|2023|Acura|             TLX.|\n",
      "|2023     Acura   ...|          NULL|        NULL|   NULL|           NULL|       NULL|               NULL|            NULL|       NULL|2023|Acura|             RDX.|\n",
      "|2022     Acura   ...|           3.0|         4.8|    4.3|            4.3|        4.7|                5.0|             5.0|        5.0|2022|Acura|             TLX.|\n",
      "|2022     Acura   ...|          19.0|         4.7|    4.8|            4.6|        4.7|                4.6|             4.9|        4.6|2022|Acura|             MDX.|\n",
      "|2022     Acura   ...|           2.0|         4.8|    5.0|            5.0|        4.5|                5.0|             4.5|        5.0|2022|Acura|             RDX.|\n",
      "|2022     Acura   ...|          NULL|        NULL|   NULL|           NULL|       NULL|               NULL|            NULL|       NULL|2022|Acura|             ILX.|\n",
      "|2022     Acura   ...|          NULL|        NULL|   NULL|           NULL|       NULL|               NULL|            NULL|       NULL|2022|Acura|             NSX.|\n",
      "|2021     Acura   ...|           3.0|         4.9|    4.7|            4.7|        5.0|                5.0|             4.7|        5.0|2021|Acura|             ILX.|\n",
      "|2021     Acura   ...|          23.0|         4.6|    4.8|            4.7|        4.6|                4.3|             4.7|        4.3|2021|Acura|             TLX.|\n",
      "|2021     Acura   ...|          43.0|         4.8|    4.9|            4.9|        4.7|                4.7|             4.9|        4.8|2021|Acura|             RDX.|\n",
      "|2021     Acura   ...|          NULL|        NULL|   NULL|           NULL|       NULL|               NULL|            NULL|       NULL|2021|Acura|             NSX.|\n",
      "|2020     Acura   ...|          17.0|         4.6|    4.5|            4.6|        4.5|                4.4|             4.7|        4.5|2020|Acura|             ILX.|\n",
      "|2020     Acura   ...|           4.0|         5.0|    5.0|            5.0|        5.0|                5.0|             5.0|        5.0|2020|Acura|RLX Sport Hybrid.|\n",
      "|2020     Acura   ...|          52.0|         4.8|    4.8|            4.8|        4.8|                4.7|             4.8|        4.9|2020|Acura|             MDX.|\n",
      "|2020     Acura   ...|          32.0|         4.9|    4.9|            4.8|        4.8|                4.8|             4.8|        4.9|2020|Acura|             TLX.|\n",
      "|2020     Acura   ...|           1.0|         4.9|    5.0|            5.0|        5.0|                5.0|             4.0|        5.0|2020|Acura|MDX Sport Hybrid.|\n",
      "|2020     Acura   ...|          97.0|         4.6|    4.8|            4.6|        4.7|                4.4|             4.8|        4.6|2020|Acura|             RDX.|\n",
      "|2020     Acura   ...|           1.0|         4.8|    4.0|            5.0|        5.0|                5.0|             5.0|       NULL|2020|Acura|             RLX.|\n",
      "+--------------------+--------------+------------+-------+---------------+-----------+-------------------+----------------+-----------+----+-----+-----------------+\n",
      "only showing top 20 rows\n",
      "\n"
     ]
    }
   ],
   "source": [
    "# HDFS에서 CSV 파일 읽기\n",
    "df = spark.read.csv(\"hdfs://namenode:9000/user/ubuntu/datasets/NewYork_Car_Rates.csv\", header=True, inferSchema=True)\n",
    "df.show()"
   ]
  },
  {
   "cell_type": "code",
   "execution_count": 8,
   "id": "e8f32fce-9614-4d53-9dd4-eb4fe6c496c7",
   "metadata": {},
   "outputs": [],
   "source": [
    "spark.stop()"
   ]
  },
  {
   "cell_type": "code",
   "execution_count": null,
   "id": "f2bce273-2a1f-4175-a67e-e1188c86b772",
   "metadata": {},
   "outputs": [],
   "source": []
  }
 ],
 "metadata": {
  "kernelspec": {
   "display_name": "Python 3 (ipykernel)",
   "language": "python",
   "name": "python3"
  },
  "language_info": {
   "codemirror_mode": {
    "name": "ipython",
    "version": 3
   },
   "file_extension": ".py",
   "mimetype": "text/x-python",
   "name": "python",
   "nbconvert_exporter": "python",
   "pygments_lexer": "ipython3",
   "version": "3.11.6"
  }
 },
 "nbformat": 4,
 "nbformat_minor": 5
}
